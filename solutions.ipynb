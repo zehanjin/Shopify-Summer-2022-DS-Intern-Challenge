{
 "cells": [
  {
   "cell_type": "code",
   "execution_count": 51,
   "metadata": {},
   "outputs": [],
   "source": [
    "import pandas as pd\n",
    "import numpy as np\n",
    "from matplotlib import pyplot as plt\n",
    "import warnings\n",
    "warnings.filterwarnings('ignore') # just to make the output nicer without IPython warnings when creating a new column"
   ]
  },
  {
   "cell_type": "markdown",
   "metadata": {},
   "source": [
    "## __Question 1__\n",
    "### EDA"
   ]
  },
  {
   "cell_type": "markdown",
   "metadata": {},
   "source": [
    "Firstly, let's perform an EDA to get a better understanding of the distribution and characteristics of the dataset"
   ]
  },
  {
   "cell_type": "code",
   "execution_count": 53,
   "metadata": {},
   "outputs": [
    {
     "data": {
      "text/plain": [
       "(5000, 7)"
      ]
     },
     "execution_count": 53,
     "metadata": {},
     "output_type": "execute_result"
    }
   ],
   "source": [
    "data = pd.read_csv('data.csv')\n",
    "data.shape # check number of observations and features\n"
   ]
  },
  {
   "cell_type": "code",
   "execution_count": 54,
   "metadata": {},
   "outputs": [
    {
     "data": {
      "text/html": [
       "<div>\n",
       "<style scoped>\n",
       "    .dataframe tbody tr th:only-of-type {\n",
       "        vertical-align: middle;\n",
       "    }\n",
       "\n",
       "    .dataframe tbody tr th {\n",
       "        vertical-align: top;\n",
       "    }\n",
       "\n",
       "    .dataframe thead th {\n",
       "        text-align: right;\n",
       "    }\n",
       "</style>\n",
       "<table border=\"1\" class=\"dataframe\">\n",
       "  <thead>\n",
       "    <tr style=\"text-align: right;\">\n",
       "      <th></th>\n",
       "      <th>order_id</th>\n",
       "      <th>shop_id</th>\n",
       "      <th>user_id</th>\n",
       "      <th>order_amount</th>\n",
       "      <th>total_items</th>\n",
       "      <th>payment_method</th>\n",
       "      <th>created_at</th>\n",
       "    </tr>\n",
       "  </thead>\n",
       "  <tbody>\n",
       "    <tr>\n",
       "      <th>0</th>\n",
       "      <td>1</td>\n",
       "      <td>53</td>\n",
       "      <td>746</td>\n",
       "      <td>224</td>\n",
       "      <td>2</td>\n",
       "      <td>cash</td>\n",
       "      <td>2017-03-13 12:36:56</td>\n",
       "    </tr>\n",
       "    <tr>\n",
       "      <th>1</th>\n",
       "      <td>2</td>\n",
       "      <td>92</td>\n",
       "      <td>925</td>\n",
       "      <td>90</td>\n",
       "      <td>1</td>\n",
       "      <td>cash</td>\n",
       "      <td>2017-03-03 17:38:52</td>\n",
       "    </tr>\n",
       "    <tr>\n",
       "      <th>2</th>\n",
       "      <td>3</td>\n",
       "      <td>44</td>\n",
       "      <td>861</td>\n",
       "      <td>144</td>\n",
       "      <td>1</td>\n",
       "      <td>cash</td>\n",
       "      <td>2017-03-14 4:23:56</td>\n",
       "    </tr>\n",
       "    <tr>\n",
       "      <th>3</th>\n",
       "      <td>4</td>\n",
       "      <td>18</td>\n",
       "      <td>935</td>\n",
       "      <td>156</td>\n",
       "      <td>1</td>\n",
       "      <td>credit_card</td>\n",
       "      <td>2017-03-26 12:43:37</td>\n",
       "    </tr>\n",
       "    <tr>\n",
       "      <th>4</th>\n",
       "      <td>5</td>\n",
       "      <td>18</td>\n",
       "      <td>883</td>\n",
       "      <td>156</td>\n",
       "      <td>1</td>\n",
       "      <td>credit_card</td>\n",
       "      <td>2017-03-01 4:35:11</td>\n",
       "    </tr>\n",
       "  </tbody>\n",
       "</table>\n",
       "</div>"
      ],
      "text/plain": [
       "   order_id  shop_id  user_id  order_amount  total_items payment_method  \\\n",
       "0         1       53      746           224            2           cash   \n",
       "1         2       92      925            90            1           cash   \n",
       "2         3       44      861           144            1           cash   \n",
       "3         4       18      935           156            1    credit_card   \n",
       "4         5       18      883           156            1    credit_card   \n",
       "\n",
       "            created_at  \n",
       "0  2017-03-13 12:36:56  \n",
       "1  2017-03-03 17:38:52  \n",
       "2   2017-03-14 4:23:56  \n",
       "3  2017-03-26 12:43:37  \n",
       "4   2017-03-01 4:35:11  "
      ]
     },
     "execution_count": 54,
     "metadata": {},
     "output_type": "execute_result"
    }
   ],
   "source": [
    "data.head() # a glimpse of the dataset\n"
   ]
  },
  {
   "cell_type": "code",
   "execution_count": 55,
   "metadata": {},
   "outputs": [
    {
     "data": {
      "text/plain": [
       "order_id          0\n",
       "shop_id           0\n",
       "user_id           0\n",
       "order_amount      0\n",
       "total_items       0\n",
       "payment_method    0\n",
       "created_at        0\n",
       "dtype: int64"
      ]
     },
     "execution_count": 55,
     "metadata": {},
     "output_type": "execute_result"
    }
   ],
   "source": [
    "data.isna().sum() # checking missing values"
   ]
  },
  {
   "cell_type": "code",
   "execution_count": 9,
   "metadata": {},
   "outputs": [
    {
     "data": {
      "text/html": [
       "<div>\n",
       "<style scoped>\n",
       "    .dataframe tbody tr th:only-of-type {\n",
       "        vertical-align: middle;\n",
       "    }\n",
       "\n",
       "    .dataframe tbody tr th {\n",
       "        vertical-align: top;\n",
       "    }\n",
       "\n",
       "    .dataframe thead th {\n",
       "        text-align: right;\n",
       "    }\n",
       "</style>\n",
       "<table border=\"1\" class=\"dataframe\">\n",
       "  <thead>\n",
       "    <tr style=\"text-align: right;\">\n",
       "      <th></th>\n",
       "      <th>order_amount</th>\n",
       "      <th>total_items</th>\n",
       "    </tr>\n",
       "  </thead>\n",
       "  <tbody>\n",
       "    <tr>\n",
       "      <th>count</th>\n",
       "      <td>5000.000000</td>\n",
       "      <td>5000.00000</td>\n",
       "    </tr>\n",
       "    <tr>\n",
       "      <th>mean</th>\n",
       "      <td>3145.128000</td>\n",
       "      <td>8.78720</td>\n",
       "    </tr>\n",
       "    <tr>\n",
       "      <th>std</th>\n",
       "      <td>41282.539349</td>\n",
       "      <td>116.32032</td>\n",
       "    </tr>\n",
       "    <tr>\n",
       "      <th>min</th>\n",
       "      <td>90.000000</td>\n",
       "      <td>1.00000</td>\n",
       "    </tr>\n",
       "    <tr>\n",
       "      <th>25%</th>\n",
       "      <td>163.000000</td>\n",
       "      <td>1.00000</td>\n",
       "    </tr>\n",
       "    <tr>\n",
       "      <th>50%</th>\n",
       "      <td>284.000000</td>\n",
       "      <td>2.00000</td>\n",
       "    </tr>\n",
       "    <tr>\n",
       "      <th>75%</th>\n",
       "      <td>390.000000</td>\n",
       "      <td>3.00000</td>\n",
       "    </tr>\n",
       "    <tr>\n",
       "      <th>max</th>\n",
       "      <td>704000.000000</td>\n",
       "      <td>2000.00000</td>\n",
       "    </tr>\n",
       "  </tbody>\n",
       "</table>\n",
       "</div>"
      ],
      "text/plain": [
       "        order_amount  total_items\n",
       "count    5000.000000   5000.00000\n",
       "mean     3145.128000      8.78720\n",
       "std     41282.539349    116.32032\n",
       "min        90.000000      1.00000\n",
       "25%       163.000000      1.00000\n",
       "50%       284.000000      2.00000\n",
       "75%       390.000000      3.00000\n",
       "max    704000.000000   2000.00000"
      ]
     },
     "execution_count": 9,
     "metadata": {},
     "output_type": "execute_result"
    }
   ],
   "source": [
    "data[['order_amount', 'total_items']].describe() # overview of statistical metrics for the most important two features"
   ]
  },
  {
   "cell_type": "markdown",
   "metadata": {},
   "source": [
    "From above we see that indeed the AOV is \\$3145.13, but the max order amount (\\$704000) and max total items (2000) are both extremely large, causing unusually large standard deviations. The cause for such observations will be investigated in more detail later, but now we already see that there are outliers in the dataset which influence the average significantly, our AOV is driven up by such extremely large order amounts, and thus is not a proper metric to reflect the true characteristics of the dataset "
   ]
  },
  {
   "cell_type": "markdown",
   "metadata": {},
   "source": [
    "### a) Reasons for nonsensical AOV and a better way to evaluate the dataset\n",
    "**Reason 1: Shop 78 with overpriced sneakers**\\\\\n",
    "**Reason 2: Shop 42 with bulk sale**\n",
    "\n",
    "As we've seen in the statistical description, we have problematic observations that deviate severely from the rest of the dataset. Let's find them now, starting with checking the unit price for sneakers in each shop (according to the question, each shop only sells one model, so it has only one price)"
   ]
  },
  {
   "cell_type": "code",
   "execution_count": 72,
   "metadata": {},
   "outputs": [
    {
     "data": {
      "text/html": [
       "<div>\n",
       "<style scoped>\n",
       "    .dataframe tbody tr th:only-of-type {\n",
       "        vertical-align: middle;\n",
       "    }\n",
       "\n",
       "    .dataframe tbody tr th {\n",
       "        vertical-align: top;\n",
       "    }\n",
       "\n",
       "    .dataframe thead th {\n",
       "        text-align: right;\n",
       "    }\n",
       "</style>\n",
       "<table border=\"1\" class=\"dataframe\">\n",
       "  <thead>\n",
       "    <tr style=\"text-align: right;\">\n",
       "      <th></th>\n",
       "      <th>order_amount</th>\n",
       "      <th>total_items</th>\n",
       "      <th>unit_price</th>\n",
       "    </tr>\n",
       "    <tr>\n",
       "      <th>shop_id</th>\n",
       "      <th></th>\n",
       "      <th></th>\n",
       "      <th></th>\n",
       "    </tr>\n",
       "  </thead>\n",
       "  <tbody>\n",
       "    <tr>\n",
       "      <th>78</th>\n",
       "      <td>49213.043478</td>\n",
       "      <td>1.913043</td>\n",
       "      <td>25725.0</td>\n",
       "    </tr>\n",
       "    <tr>\n",
       "      <th>42</th>\n",
       "      <td>235101.490196</td>\n",
       "      <td>667.901961</td>\n",
       "      <td>352.0</td>\n",
       "    </tr>\n",
       "    <tr>\n",
       "      <th>12</th>\n",
       "      <td>352.698113</td>\n",
       "      <td>1.754717</td>\n",
       "      <td>201.0</td>\n",
       "    </tr>\n",
       "    <tr>\n",
       "      <th>89</th>\n",
       "      <td>379.147541</td>\n",
       "      <td>1.934426</td>\n",
       "      <td>196.0</td>\n",
       "    </tr>\n",
       "    <tr>\n",
       "      <th>99</th>\n",
       "      <td>339.444444</td>\n",
       "      <td>1.740741</td>\n",
       "      <td>195.0</td>\n",
       "    </tr>\n",
       "  </tbody>\n",
       "</table>\n",
       "</div>"
      ],
      "text/plain": [
       "          order_amount  total_items  unit_price\n",
       "shop_id                                        \n",
       "78        49213.043478     1.913043     25725.0\n",
       "42       235101.490196   667.901961       352.0\n",
       "12          352.698113     1.754717       201.0\n",
       "89          379.147541     1.934426       196.0\n",
       "99          339.444444     1.740741       195.0"
      ]
     },
     "execution_count": 72,
     "metadata": {},
     "output_type": "execute_result"
    }
   ],
   "source": [
    "data_copy = data[['shop_id', 'order_amount', 'total_items']] # let's not change the original dataset\n",
    "data_copy['unit_price'] = data_copy.order_amount/data_copy.total_items # find unit price for each shop\n",
    "data_copy = data_copy.groupby(['shop_id']).mean().sort_values(by = ['unit_price'], ascending= False) # group by shop then sort unit price\n",
    "data_copy.head()"
   ]
  },
  {
   "cell_type": "code",
   "execution_count": 73,
   "metadata": {},
   "outputs": [
    {
     "data": {
      "text/plain": [
       "count      100.000000\n",
       "mean       407.990000\n",
       "std       2557.462906\n",
       "min         90.000000\n",
       "25%        132.750000\n",
       "50%        153.000000\n",
       "75%        168.250000\n",
       "max      25725.000000\n",
       "Name: unit_price, dtype: float64"
      ]
     },
     "execution_count": 73,
     "metadata": {},
     "output_type": "execute_result"
    }
   ],
   "source": [
    "data_copy.unit_price.describe()"
   ]
  },
  {
   "cell_type": "markdown",
   "metadata": {},
   "source": [
    "We see that almost every shop sells sneakers at a reasonable price, ranging from \\$90 to \\$352, but shop 78 sells sneakers at the price of \\$25725 (luxurious shop I guess, or money laundry), which significantly drives up the AOV. \n",
    "\n",
    "But shop 78 isn't the only cause of the problem. If we take a closer look at the total_items column in the previous table, we see shop 42 sells 668 pairs of sneakers on average per order while other shops sell around 2 on average. Let's dig into it"
   ]
  },
  {
   "cell_type": "code",
   "execution_count": 65,
   "metadata": {},
   "outputs": [
    {
     "data": {
      "text/html": [
       "<div>\n",
       "<style scoped>\n",
       "    .dataframe tbody tr th:only-of-type {\n",
       "        vertical-align: middle;\n",
       "    }\n",
       "\n",
       "    .dataframe tbody tr th {\n",
       "        vertical-align: top;\n",
       "    }\n",
       "\n",
       "    .dataframe thead th {\n",
       "        text-align: right;\n",
       "    }\n",
       "</style>\n",
       "<table border=\"1\" class=\"dataframe\">\n",
       "  <thead>\n",
       "    <tr style=\"text-align: right;\">\n",
       "      <th></th>\n",
       "      <th>order_amount</th>\n",
       "      <th>total_items</th>\n",
       "      <th>unit_price</th>\n",
       "    </tr>\n",
       "    <tr>\n",
       "      <th>shop_id</th>\n",
       "      <th></th>\n",
       "      <th></th>\n",
       "      <th></th>\n",
       "    </tr>\n",
       "  </thead>\n",
       "  <tbody>\n",
       "    <tr>\n",
       "      <th>42</th>\n",
       "      <td>235101.490196</td>\n",
       "      <td>667.901961</td>\n",
       "      <td>352.0</td>\n",
       "    </tr>\n",
       "    <tr>\n",
       "      <th>37</th>\n",
       "      <td>340.208333</td>\n",
       "      <td>2.395833</td>\n",
       "      <td>142.0</td>\n",
       "    </tr>\n",
       "    <tr>\n",
       "      <th>24</th>\n",
       "      <td>320.727273</td>\n",
       "      <td>2.290909</td>\n",
       "      <td>140.0</td>\n",
       "    </tr>\n",
       "    <tr>\n",
       "      <th>90</th>\n",
       "      <td>403.224490</td>\n",
       "      <td>2.265306</td>\n",
       "      <td>178.0</td>\n",
       "    </tr>\n",
       "    <tr>\n",
       "      <th>10</th>\n",
       "      <td>332.301887</td>\n",
       "      <td>2.245283</td>\n",
       "      <td>148.0</td>\n",
       "    </tr>\n",
       "  </tbody>\n",
       "</table>\n",
       "</div>"
      ],
      "text/plain": [
       "          order_amount  total_items  unit_price\n",
       "shop_id                                        \n",
       "42       235101.490196   667.901961       352.0\n",
       "37          340.208333     2.395833       142.0\n",
       "24          320.727273     2.290909       140.0\n",
       "90          403.224490     2.265306       178.0\n",
       "10          332.301887     2.245283       148.0"
      ]
     },
     "execution_count": 65,
     "metadata": {},
     "output_type": "execute_result"
    }
   ],
   "source": [
    "data_copy.sort_values(by=['total_items'], ascending=False).head()"
   ]
  },
  {
   "cell_type": "code",
   "execution_count": 74,
   "metadata": {},
   "outputs": [
    {
     "data": {
      "text/plain": [
       "count    100.000000\n",
       "mean       8.652863\n",
       "std       66.590946\n",
       "min        1.731707\n",
       "25%        1.912724\n",
       "50%        1.981125\n",
       "75%        2.076250\n",
       "max      667.901961\n",
       "Name: total_items, dtype: float64"
      ]
     },
     "execution_count": 74,
     "metadata": {},
     "output_type": "execute_result"
    }
   ],
   "source": [
    "data_copy.total_items.describe()"
   ]
  },
  {
   "cell_type": "markdown",
   "metadata": {},
   "source": [
    "We see that almost every shop sells 2 sneakers on average, but shop 42 sells 667 pairs of sneakers on average within the past 30 days, which, again, significantly deviates from the rest. Now if we take an even closer look at the detailed transction information of shop 42 (I simply skimmed through the dataset by sorting the total_items column), we immediately spot repetitive large transctions (2000 pairs of sneakers) from user 607"
   ]
  },
  {
   "cell_type": "code",
   "execution_count": 70,
   "metadata": {},
   "outputs": [
    {
     "data": {
      "text/html": [
       "<div>\n",
       "<style scoped>\n",
       "    .dataframe tbody tr th:only-of-type {\n",
       "        vertical-align: middle;\n",
       "    }\n",
       "\n",
       "    .dataframe tbody tr th {\n",
       "        vertical-align: top;\n",
       "    }\n",
       "\n",
       "    .dataframe thead th {\n",
       "        text-align: right;\n",
       "    }\n",
       "</style>\n",
       "<table border=\"1\" class=\"dataframe\">\n",
       "  <thead>\n",
       "    <tr style=\"text-align: right;\">\n",
       "      <th></th>\n",
       "      <th>order_id</th>\n",
       "      <th>shop_id</th>\n",
       "      <th>user_id</th>\n",
       "      <th>order_amount</th>\n",
       "      <th>total_items</th>\n",
       "      <th>payment_method</th>\n",
       "      <th>created_at</th>\n",
       "    </tr>\n",
       "  </thead>\n",
       "  <tbody>\n",
       "    <tr>\n",
       "      <th>15</th>\n",
       "      <td>16</td>\n",
       "      <td>42</td>\n",
       "      <td>607</td>\n",
       "      <td>704000</td>\n",
       "      <td>2000</td>\n",
       "      <td>credit_card</td>\n",
       "      <td>2017-03-07 4:00:00</td>\n",
       "    </tr>\n",
       "    <tr>\n",
       "      <th>60</th>\n",
       "      <td>61</td>\n",
       "      <td>42</td>\n",
       "      <td>607</td>\n",
       "      <td>704000</td>\n",
       "      <td>2000</td>\n",
       "      <td>credit_card</td>\n",
       "      <td>2017-03-04 4:00:00</td>\n",
       "    </tr>\n",
       "    <tr>\n",
       "      <th>520</th>\n",
       "      <td>521</td>\n",
       "      <td>42</td>\n",
       "      <td>607</td>\n",
       "      <td>704000</td>\n",
       "      <td>2000</td>\n",
       "      <td>credit_card</td>\n",
       "      <td>2017-03-02 4:00:00</td>\n",
       "    </tr>\n",
       "    <tr>\n",
       "      <th>1104</th>\n",
       "      <td>1105</td>\n",
       "      <td>42</td>\n",
       "      <td>607</td>\n",
       "      <td>704000</td>\n",
       "      <td>2000</td>\n",
       "      <td>credit_card</td>\n",
       "      <td>2017-03-24 4:00:00</td>\n",
       "    </tr>\n",
       "    <tr>\n",
       "      <th>1362</th>\n",
       "      <td>1363</td>\n",
       "      <td>42</td>\n",
       "      <td>607</td>\n",
       "      <td>704000</td>\n",
       "      <td>2000</td>\n",
       "      <td>credit_card</td>\n",
       "      <td>2017-03-15 4:00:00</td>\n",
       "    </tr>\n",
       "  </tbody>\n",
       "</table>\n",
       "</div>"
      ],
      "text/plain": [
       "      order_id  shop_id  user_id  order_amount  total_items payment_method  \\\n",
       "15          16       42      607        704000         2000    credit_card   \n",
       "60          61       42      607        704000         2000    credit_card   \n",
       "520        521       42      607        704000         2000    credit_card   \n",
       "1104      1105       42      607        704000         2000    credit_card   \n",
       "1362      1363       42      607        704000         2000    credit_card   \n",
       "\n",
       "              created_at  \n",
       "15    2017-03-07 4:00:00  \n",
       "60    2017-03-04 4:00:00  \n",
       "520   2017-03-02 4:00:00  \n",
       "1104  2017-03-24 4:00:00  \n",
       "1362  2017-03-15 4:00:00  "
      ]
     },
     "execution_count": 70,
     "metadata": {},
     "output_type": "execute_result"
    }
   ],
   "source": [
    "data.loc[data.user_id  == 607].head()"
   ]
  },
  {
   "cell_type": "code",
   "execution_count": 75,
   "metadata": {},
   "outputs": [
    {
     "data": {
      "text/html": [
       "<div>\n",
       "<style scoped>\n",
       "    .dataframe tbody tr th:only-of-type {\n",
       "        vertical-align: middle;\n",
       "    }\n",
       "\n",
       "    .dataframe tbody tr th {\n",
       "        vertical-align: top;\n",
       "    }\n",
       "\n",
       "    .dataframe thead th {\n",
       "        text-align: right;\n",
       "    }\n",
       "</style>\n",
       "<table border=\"1\" class=\"dataframe\">\n",
       "  <thead>\n",
       "    <tr style=\"text-align: right;\">\n",
       "      <th></th>\n",
       "      <th>order_id</th>\n",
       "      <th>shop_id</th>\n",
       "      <th>user_id</th>\n",
       "      <th>order_amount</th>\n",
       "      <th>total_items</th>\n",
       "      <th>payment_method</th>\n",
       "      <th>created_at</th>\n",
       "    </tr>\n",
       "  </thead>\n",
       "  <tbody>\n",
       "    <tr>\n",
       "      <th>40</th>\n",
       "      <td>41</td>\n",
       "      <td>42</td>\n",
       "      <td>793</td>\n",
       "      <td>352</td>\n",
       "      <td>1</td>\n",
       "      <td>credit_card</td>\n",
       "      <td>2017-03-24 14:15:41</td>\n",
       "    </tr>\n",
       "    <tr>\n",
       "      <th>308</th>\n",
       "      <td>309</td>\n",
       "      <td>42</td>\n",
       "      <td>770</td>\n",
       "      <td>352</td>\n",
       "      <td>1</td>\n",
       "      <td>credit_card</td>\n",
       "      <td>2017-03-11 18:14:39</td>\n",
       "    </tr>\n",
       "    <tr>\n",
       "      <th>409</th>\n",
       "      <td>410</td>\n",
       "      <td>42</td>\n",
       "      <td>904</td>\n",
       "      <td>704</td>\n",
       "      <td>2</td>\n",
       "      <td>credit_card</td>\n",
       "      <td>2017-03-04 14:32:58</td>\n",
       "    </tr>\n",
       "    <tr>\n",
       "      <th>834</th>\n",
       "      <td>835</td>\n",
       "      <td>42</td>\n",
       "      <td>792</td>\n",
       "      <td>352</td>\n",
       "      <td>1</td>\n",
       "      <td>cash</td>\n",
       "      <td>2017-03-25 21:31:25</td>\n",
       "    </tr>\n",
       "    <tr>\n",
       "      <th>835</th>\n",
       "      <td>836</td>\n",
       "      <td>42</td>\n",
       "      <td>819</td>\n",
       "      <td>704</td>\n",
       "      <td>2</td>\n",
       "      <td>cash</td>\n",
       "      <td>2017-03-09 14:15:15</td>\n",
       "    </tr>\n",
       "  </tbody>\n",
       "</table>\n",
       "</div>"
      ],
      "text/plain": [
       "     order_id  shop_id  user_id  order_amount  total_items payment_method  \\\n",
       "40         41       42      793           352            1    credit_card   \n",
       "308       309       42      770           352            1    credit_card   \n",
       "409       410       42      904           704            2    credit_card   \n",
       "834       835       42      792           352            1           cash   \n",
       "835       836       42      819           704            2           cash   \n",
       "\n",
       "              created_at  \n",
       "40   2017-03-24 14:15:41  \n",
       "308  2017-03-11 18:14:39  \n",
       "409  2017-03-04 14:32:58  \n",
       "834  2017-03-25 21:31:25  \n",
       "835  2017-03-09 14:15:15  "
      ]
     },
     "execution_count": 75,
     "metadata": {},
     "output_type": "execute_result"
    }
   ],
   "source": [
    "data.loc[(data.shop_id == 42) & (data.user_id != 607)].head()"
   ]
  },
  {
   "cell_type": "markdown",
   "metadata": {},
   "source": [
    "We see that one user with id 607 buys 2000 sneakers at a fixed time (4:00:00) for many times, a reasonable explanation for this phenomenon is that this is not the behavior of normal customer who walks in the shop or buys some sneakers for personal wear or gifting, but an automatic transction from other suppliers (or shops) who need large quantity for second-hand selling. Notice that there are actually stll orders of one or two pairs of sneakers from normal customers, which is why we see the average total_items in shop 42 is not 2000 but 668"
   ]
  },
  {
   "cell_type": "markdown",
   "metadata": {},
   "source": [
    "In summary, the naively calculated AOV doesn't take into account the case of shop 78 which sells extremely overpriced sneakers and shop 42 which offers bulk sale at the quantity of 2000. Both shops significantly increase the order_amount, which consequently drives up the AOV to a value that doesn't make sense. \n",
    "\n",
    "**A better way to evaluate this data**\\\\\n",
    "\n",
    "If we still want to analyze AOV and our focus is the pattern of normal customers who buy regularly priced sneakers, we'd better not include observations from shop 78 and bulk sale transctions from shop 42. By removing such observations which significantly deviate from the rest, we can better focus on our goal of understanding the purchase habit of regular customers. \n",
    "\n",
    "But if we want to fully understand this dataset, we can't simply ignore the fact that there are overpriced sneakers and people who are willing to pay for them, and there are bulk sales happening. Although they don't fit into the normal pattern, they are still valid observations and they carry valuable information. Depending on the focus of the analysis, we may need to consider them in our calculation as well.\n",
    "\n",
    "### b) What metric would I report\n",
    "\n",
    "Although I believe we should evaluate as many metrics as possible for a better understanding of the dataset, if I'm asked to report only one metric, I would report **median**, which is 0.5 quantile of the order_amount. It's not affected by the extremely large order_amount since it represents the middle number of all 5000 observations, several hundreds of extreme values at the tail won't influence the middle number. A quick comparison is below to show that the existence of extreme observations from shop 42 and shop 78 won't influence the median"
   ]
  },
  {
   "cell_type": "code",
   "execution_count": 76,
   "metadata": {},
   "outputs": [
    {
     "data": {
      "text/plain": [
       "True"
      ]
     },
     "execution_count": 76,
     "metadata": {},
     "output_type": "execute_result"
    }
   ],
   "source": [
    "median_w = np.median(data.order_amount)\n",
    "median_wo = np.median(data[((data.shop_id != 42) & data.user_id!= 607) & (data.shop_id!=78)].order_amount) # remove shop 42 user 607 data and shop 78 data\n",
    "median_w == median_wo"
   ]
  },
  {
   "cell_type": "markdown",
   "metadata": {},
   "source": [
    "### c) What's the value\n",
    "\n",
    "The median is \\$284, which is a number that makes sense for sneakers. It's the price for either several pairs of cheap sneakers (like \\$90) or one pair of more expensive sneakers"
   ]
  },
  {
   "cell_type": "markdown",
   "metadata": {},
   "source": [
    "## Question 2\n",
    "### a) How many orders were shipped by Speedy Express in total\n",
    "SELECT COUNT(ShipperName)\n",
    "FROM Orders o\n",
    "LEFT JOIN Shippers s\n",
    "ON s.ShipperID = o.ShipperID\n",
    "Where ShipperName = 'Speedy Express'\n",
    "\n",
    "Answer: 54\n",
    "\n",
    "### b) What is the last name of the employee with the most orders\n",
    "WITH NumOrder AS (\\\n",
    "SELECT EmployeeID, Count(EmployeeID) Num\\\n",
    "FROM orders \\\n",
    "GROUP BY EmployeeID\\\n",
    "ORDER BY Num DESC\\\n",
    ")\\\n",
    "SELECT LastName\\\n",
    "FROM NumOrder no\\\n",
    "LEFT JOIN Employees e\\\n",
    "ON no.EmployeeID = e.EmployeeID\\\n",
    "LIMIT 1\\\n",
    "\\\n",
    "Answer: Peacock\\\n",
    "\\\n",
    "### c) What product was ordered the most by customers in Germany\n",
    "WITH OrderGermany AS (\n",
    "SELECT od.ProductID, SUM(od.Quantity) Num\n",
    "from Orders o\n",
    "LEFT JOIN Customers c ON o.CustomerID = c.CustomerID\n",
    "LEFT JOIN OrderDetails od ON o.OrderID = od.OrderID\n",
    "WHERE c.Country = 'Germany'\n",
    "GROUP BY od.ProductID\n",
    "ORDER BY Num DESC\n",
    ")\n",
    "SELECT p.ProductName\n",
    "FROM OrderGermany og\n",
    "LEFT JOIN Products p\n",
    "ON p.ProductID = og.ProductID\n",
    "LIMIT 1\n",
    "\n",
    "Answer: Boston Crab Meat"
   ]
  }
 ],
 "metadata": {
  "interpreter": {
   "hash": "ac59ebe37160ed0dfa835113d9b8498d9f09ceb179beaac4002f036b9467c963"
  },
  "kernelspec": {
   "display_name": "Python 3.9.5 64-bit",
   "language": "python",
   "name": "python3"
  },
  "language_info": {
   "codemirror_mode": {
    "name": "ipython",
    "version": 3
   },
   "file_extension": ".py",
   "mimetype": "text/x-python",
   "name": "python",
   "nbconvert_exporter": "python",
   "pygments_lexer": "ipython3",
   "version": "3.9.5"
  },
  "orig_nbformat": 4
 },
 "nbformat": 4,
 "nbformat_minor": 2
}
